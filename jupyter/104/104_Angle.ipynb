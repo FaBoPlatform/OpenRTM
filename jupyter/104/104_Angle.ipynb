{
 "cells": [
  {
   "cell_type": "markdown",
   "metadata": {},
   "source": [
    "# 環境設定\n",
    "\n",
    "configファイルにパスを通す。パスの参照順は以下の通り。\n",
    "Jupyterから特定のconfigファイルを読ませるために、カレントフォルダにrtc.confを事前に作成しておく。\n",
    "\n",
    "* コマンドラインオプション \"-f\"\n",
    "* 環境変数 \"RTC_MANAGER_CONFIG\"\n",
    "* デフォルト設定ファイル \"./rtc.conf\"\n",
    "* デフォルト設定ファイル \"/etc/rtc.conf\"\n",
    "* デフォルト設定ファイル \"/etc/rtc/rtc.conf\"\n",
    "* デフォルト設定ファイル \"/usr/local/etc/rtc.conf\"\n",
    "* デフォルト設定ファイル \"/usr/local/etc/rtc/rtc.conf\"\n",
    "* 埋め込みコンフィギュレーション値"
   ]
  },
  {
   "cell_type": "code",
   "execution_count": 5,
   "metadata": {},
   "outputs": [
    {
     "name": "stdout",
     "output_type": "stream",
     "text": [
      "./rtc.conf\r\n"
     ]
    }
   ],
   "source": [
    "!ls ./rtc.conf"
   ]
  },
  {
   "cell_type": "markdown",
   "metadata": {},
   "source": [
    "rtc.confの内容は以下の通り。\n",
    "logger.enableをYESに設定し起動履歴をログに出力する。Python上ではうまくエラーが拾えないので必須。\n",
    "\n",
    "logger.file_nameで、ログ・ファイル名を指定。rtc.log に出力する設定とする。"
   ]
  },
  {
   "cell_type": "code",
   "execution_count": 6,
   "metadata": {},
   "outputs": [
    {
     "name": "stdout",
     "output_type": "stream",
     "text": [
      "corba.nameservers: localhost\r\n",
      "exec_cxt.periodic.rate:1000.0\r\n",
      "naming.formats: %n.rtc\r\n",
      "logger.enable: YES\r\n",
      "logger.file_name: rtc.log\r\n"
     ]
    }
   ],
   "source": [
    "!more ./rtc.conf"
   ]
  },
  {
   "cell_type": "markdown",
   "metadata": {},
   "source": [
    "# RTCのソース\n",
    "\n",
    "今回は、104のAngleをSPI通信で、SP3008というチップを経由して取得しにいくので、`import spidev`でspiのライブラリをimportする。　"
   ]
  },
  {
   "cell_type": "code",
   "execution_count": 7,
   "metadata": {
    "collapsed": true
   },
   "outputs": [],
   "source": [
    "#!/usr/bin/env python\n",
    "# coding: utf-8\n",
    "# Python \n",
    "\n",
    "import spidev\n",
    "import time\n",
    "import sys\n",
    "import RTC\n",
    "import OpenRTM_aist"
   ]
  },
  {
   "cell_type": "markdown",
   "metadata": {},
   "source": [
    "configurationの値を設定する。\n",
    "\n",
    "conf.default.angle_pin は、システム・ダイアグラムのconfigurationタブから任意の値に変更が可能。"
   ]
  },
  {
   "cell_type": "code",
   "execution_count": 8,
   "metadata": {
    "collapsed": true
   },
   "outputs": [],
   "source": [
    "DEFAULT_ANGLE_PIN = 0\n",
    "\n",
    "fabo_angle_spec = [\"implementation_id\", \"FaBoAngle\",\n",
    "              \"type_name\",      \"FaBoAngleComponent\",\n",
    "              \"description\",      \"FaBo Angle component\",\n",
    "              \"version\",            \"1.0\",\n",
    "              \"vendor\",            \"GClue, Inc.\",\n",
    "              \"category\",          \"fabo\",\n",
    "              \"activity_type\",     \"DataFlowComponent\",\n",
    "              \"max_instance\",   \"10\",\n",
    "              \"language\",          \"Python\",\n",
    "              \"lang_type\",         \"script\",\n",
    "              \"conf.default.angle_pin\", str(DEFAULT_ANGLE_PIN),\n",
    "              \"\"]"
   ]
  },
  {
   "cell_type": "markdown",
   "metadata": {},
   "source": [
    "AngleのRTC。onInitialize()でパラメーターのbindをおこなっている。angle_pinをシステム・ダイアグラムのconfigurationタブから任意の値に変更できるようにするための処理。"
   ]
  },
  {
   "cell_type": "code",
   "execution_count": 9,
   "metadata": {
    "collapsed": true
   },
   "outputs": [],
   "source": [
    "class FaBoAngle(OpenRTM_aist.DataFlowComponentBase):\n",
    "    \n",
    "    def readadc(self, channel):\n",
    "        \"\"\"\n",
    "        Analog Data Converterの値を読み込む\n",
    "        @channel チャンネル番号\n",
    "        \"\"\"\n",
    "        adc = self._spi.xfer2([1,(8+channel)<<4,0])\n",
    "        data = ((adc[1]&3) << 8) + adc[2]\n",
    "        return data\n",
    "\n",
    "    def map(self, x, in_min, in_max, out_min, out_max):\n",
    "        \"\"\"\n",
    "        map関数\n",
    "        @x 変換したい値\n",
    "        @in_min 変換前の最小値\n",
    "        @in_max 変換前の最大値\n",
    "        @out_min 変換後の最小\n",
    "        @out_max 変換後の最大値\n",
    "        @return 変換された値\n",
    "        \"\"\"\n",
    "        return (x - in_min) * (out_max - out_min) // (in_max - in_min) + out_min\n",
    "\n",
    "    def __init__(self, manager):\n",
    "        print \"__init__\"\n",
    "        OpenRTM_aist.DataFlowComponentBase.__init__(self, manager)\n",
    "        \n",
    "        # Set default pin.\n",
    "        self._angle_pin =  [DEFAULT_ANGLE_PIN]\n",
    "\n",
    "        return\n",
    "\n",
    "    def onInitialize(self):\n",
    "        print \"onInitialize\"\n",
    "        \n",
    "        # Bind parameter.\n",
    "        self.bindParameter(\"angle_pin\", self._angle_pin, str(DEFAULT_ANGLE_PIN))\n",
    "        \n",
    "        # Add port.\n",
    "        self._angle     = RTC.TimedShort(RTC.Time(0,0),0)\n",
    "        self._angleOut    = OpenRTM_aist.OutPort(\"ANGLE\", self._angle)\n",
    "        self.addOutPort(\"ANGLE\", self._angleOut)\n",
    "\n",
    "        # Init SPI.\n",
    "        self._spi = spidev.SpiDev()\n",
    "        self._spi.open(0,0)\n",
    "        \n",
    "        return RTC.RTC_OK\n",
    "    \n",
    "    def onActivated(self, ec_id):\n",
    "        print \"onActivated\"\n",
    "        print self._angle_pin[0]\n",
    "        return RTC.RTC_OK\n",
    "    \n",
    "    def onExecute(self, ec_id):\n",
    "        #print \"onExcute\"\n",
    "        \n",
    "        # Read pin\n",
    "        data = self.readadc(self._angle_pin[0])\n",
    "        value = self.map(data, 0, 1023, 0, 100)\n",
    "        sys.stdout.write(\"\\rch = %d, value = %d  \" % (self._angle_pin[0], value))\n",
    "        sys.stdout.flush()\n",
    "    \n",
    "        # Write value to port.\n",
    "        self._angle.data = value\n",
    "        self._angleOut.write()\n",
    "            \n",
    "        return RTC.RTC_OK"
   ]
  },
  {
   "cell_type": "code",
   "execution_count": null,
   "metadata": {},
   "outputs": [
    {
     "name": "stdout",
     "output_type": "stream",
     "text": [
      "main\n",
      "MyModuleInit\n",
      "FaBoAngleInit\n",
      "__init__\n",
      "onInitialize\n",
      "onActivated\n",
      "1\n",
      "ch = 1, value = 68   "
     ]
    }
   ],
   "source": [
    "def FaBoAngleInit(manager):\n",
    "    print \"FaBoAngleInit\"\n",
    "    \n",
    "    profile = OpenRTM_aist.Properties(defaults_str=fabo_angle_spec)\n",
    "    manager.registerFactory(profile,\n",
    "                            FaBoAngle,\n",
    "                            OpenRTM_aist.Delete)    \n",
    "\n",
    "def MyModuleInit(manager):\n",
    "    print \"MyModuleInit\"\n",
    "    \n",
    "    FaBoAngleInit(manager)\n",
    "    comp = manager.createComponent(\"FaBoAngle\")\n",
    "\n",
    "def main():\n",
    "    print \"main\"\n",
    "    mgr = OpenRTM_aist.Manager.init(sys.argv)\n",
    "    mgr.setModuleInitProc(MyModuleInit)\n",
    "    mgr.activateManager()\n",
    "    mgr.runManager()\n",
    "    \n",
    "if __name__ == \"__main__\":\n",
    "    main()"
   ]
  }
 ],
 "metadata": {
  "kernelspec": {
   "display_name": "Python 2",
   "language": "python",
   "name": "python2"
  },
  "language_info": {
   "codemirror_mode": {
    "name": "ipython",
    "version": 2
   },
   "file_extension": ".py",
   "mimetype": "text/x-python",
   "name": "python",
   "nbconvert_exporter": "python",
   "pygments_lexer": "ipython2",
   "version": "2.7.9"
  }
 },
 "nbformat": 4,
 "nbformat_minor": 2
}
